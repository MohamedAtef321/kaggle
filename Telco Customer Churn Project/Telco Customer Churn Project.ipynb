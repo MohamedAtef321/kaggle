{
 "cells": [
  {
   "cell_type": "markdown",
   "id": "419210e3",
   "metadata": {
    "papermill": {
     "duration": 0.024735,
     "end_time": "2021-08-30T11:57:34.227842",
     "exception": false,
     "start_time": "2021-08-30T11:57:34.203107",
     "status": "completed"
    },
    "tags": []
   },
   "source": [
    "## Importing Libraries :"
   ]
  },
  {
   "cell_type": "code",
   "execution_count": 1,
   "id": "73246707",
   "metadata": {
    "_cell_guid": "b1076dfc-b9ad-4769-8c92-a6c4dae69d19",
    "_uuid": "8f2839f25d086af736a60e9eeb907d3b93b6e0e5",
    "execution": {
     "iopub.execute_input": "2021-08-30T11:57:34.290473Z",
     "iopub.status.busy": "2021-08-30T11:57:34.289651Z",
     "iopub.status.idle": "2021-08-30T11:57:35.446467Z",
     "shell.execute_reply": "2021-08-30T11:57:35.445470Z",
     "shell.execute_reply.started": "2021-08-30T11:56:55.687493Z"
    },
    "papermill": {
     "duration": 1.192831,
     "end_time": "2021-08-30T11:57:35.446726",
     "exception": false,
     "start_time": "2021-08-30T11:57:34.253895",
     "status": "completed"
    },
    "tags": []
   },
   "outputs": [],
   "source": [
    "import numpy as np\n",
    "import pandas as pd\n",
    "import seaborn as sb\n",
    "import matplotlib.pyplot as plt\n",
    "%matplotlib inline\n",
    "pd.set_option(\"display.max_columns\", None)"
   ]
  },
  {
   "cell_type": "markdown",
   "id": "8a7f154b",
   "metadata": {
    "papermill": {
     "duration": 0.023933,
     "end_time": "2021-08-30T11:57:35.495058",
     "exception": false,
     "start_time": "2021-08-30T11:57:35.471125",
     "status": "completed"
    },
    "tags": []
   },
   "source": [
    "## Reading Data :"
   ]
  },
  {
   "cell_type": "code",
   "execution_count": 2,
   "id": "2b622340",
   "metadata": {
    "execution": {
     "iopub.execute_input": "2021-08-30T11:57:35.549698Z",
     "iopub.status.busy": "2021-08-30T11:57:35.548888Z",
     "iopub.status.idle": "2021-08-30T11:57:35.620342Z",
     "shell.execute_reply": "2021-08-30T11:57:35.619652Z",
     "shell.execute_reply.started": "2021-08-30T11:56:55.699018Z"
    },
    "papermill": {
     "duration": 0.101087,
     "end_time": "2021-08-30T11:57:35.620528",
     "exception": false,
     "start_time": "2021-08-30T11:57:35.519441",
     "status": "completed"
    },
    "tags": []
   },
   "outputs": [],
   "source": [
    "data_df = pd.read_csv('../input/telco-customer-churn/WA_Fn-UseC_-Telco-Customer-Churn.csv')"
   ]
  },
  {
   "cell_type": "code",
   "execution_count": 3,
   "id": "5da3f823",
   "metadata": {
    "execution": {
     "iopub.execute_input": "2021-08-30T11:57:35.680609Z",
     "iopub.status.busy": "2021-08-30T11:57:35.679425Z",
     "iopub.status.idle": "2021-08-30T11:57:35.716498Z",
     "shell.execute_reply": "2021-08-30T11:57:35.715856Z",
     "shell.execute_reply.started": "2021-08-30T11:56:55.772326Z"
    },
    "papermill": {
     "duration": 0.072303,
     "end_time": "2021-08-30T11:57:35.716667",
     "exception": false,
     "start_time": "2021-08-30T11:57:35.644364",
     "status": "completed"
    },
    "tags": []
   },
   "outputs": [
    {
     "data": {
      "text/html": [
       "<div>\n",
       "<style scoped>\n",
       "    .dataframe tbody tr th:only-of-type {\n",
       "        vertical-align: middle;\n",
       "    }\n",
       "\n",
       "    .dataframe tbody tr th {\n",
       "        vertical-align: top;\n",
       "    }\n",
       "\n",
       "    .dataframe thead th {\n",
       "        text-align: right;\n",
       "    }\n",
       "</style>\n",
       "<table border=\"1\" class=\"dataframe\">\n",
       "  <thead>\n",
       "    <tr style=\"text-align: right;\">\n",
       "      <th></th>\n",
       "      <th>customerID</th>\n",
       "      <th>gender</th>\n",
       "      <th>SeniorCitizen</th>\n",
       "      <th>Partner</th>\n",
       "      <th>Dependents</th>\n",
       "      <th>tenure</th>\n",
       "      <th>PhoneService</th>\n",
       "      <th>MultipleLines</th>\n",
       "      <th>InternetService</th>\n",
       "      <th>OnlineSecurity</th>\n",
       "      <th>OnlineBackup</th>\n",
       "      <th>DeviceProtection</th>\n",
       "      <th>TechSupport</th>\n",
       "      <th>StreamingTV</th>\n",
       "      <th>StreamingMovies</th>\n",
       "      <th>Contract</th>\n",
       "      <th>PaperlessBilling</th>\n",
       "      <th>PaymentMethod</th>\n",
       "      <th>MonthlyCharges</th>\n",
       "      <th>TotalCharges</th>\n",
       "      <th>Churn</th>\n",
       "    </tr>\n",
       "  </thead>\n",
       "  <tbody>\n",
       "    <tr>\n",
       "      <th>0</th>\n",
       "      <td>7590-VHVEG</td>\n",
       "      <td>Female</td>\n",
       "      <td>0</td>\n",
       "      <td>Yes</td>\n",
       "      <td>No</td>\n",
       "      <td>1</td>\n",
       "      <td>No</td>\n",
       "      <td>No phone service</td>\n",
       "      <td>DSL</td>\n",
       "      <td>No</td>\n",
       "      <td>Yes</td>\n",
       "      <td>No</td>\n",
       "      <td>No</td>\n",
       "      <td>No</td>\n",
       "      <td>No</td>\n",
       "      <td>Month-to-month</td>\n",
       "      <td>Yes</td>\n",
       "      <td>Electronic check</td>\n",
       "      <td>29.85</td>\n",
       "      <td>29.85</td>\n",
       "      <td>No</td>\n",
       "    </tr>\n",
       "    <tr>\n",
       "      <th>1</th>\n",
       "      <td>5575-GNVDE</td>\n",
       "      <td>Male</td>\n",
       "      <td>0</td>\n",
       "      <td>No</td>\n",
       "      <td>No</td>\n",
       "      <td>34</td>\n",
       "      <td>Yes</td>\n",
       "      <td>No</td>\n",
       "      <td>DSL</td>\n",
       "      <td>Yes</td>\n",
       "      <td>No</td>\n",
       "      <td>Yes</td>\n",
       "      <td>No</td>\n",
       "      <td>No</td>\n",
       "      <td>No</td>\n",
       "      <td>One year</td>\n",
       "      <td>No</td>\n",
       "      <td>Mailed check</td>\n",
       "      <td>56.95</td>\n",
       "      <td>1889.5</td>\n",
       "      <td>No</td>\n",
       "    </tr>\n",
       "    <tr>\n",
       "      <th>2</th>\n",
       "      <td>3668-QPYBK</td>\n",
       "      <td>Male</td>\n",
       "      <td>0</td>\n",
       "      <td>No</td>\n",
       "      <td>No</td>\n",
       "      <td>2</td>\n",
       "      <td>Yes</td>\n",
       "      <td>No</td>\n",
       "      <td>DSL</td>\n",
       "      <td>Yes</td>\n",
       "      <td>Yes</td>\n",
       "      <td>No</td>\n",
       "      <td>No</td>\n",
       "      <td>No</td>\n",
       "      <td>No</td>\n",
       "      <td>Month-to-month</td>\n",
       "      <td>Yes</td>\n",
       "      <td>Mailed check</td>\n",
       "      <td>53.85</td>\n",
       "      <td>108.15</td>\n",
       "      <td>Yes</td>\n",
       "    </tr>\n",
       "    <tr>\n",
       "      <th>3</th>\n",
       "      <td>7795-CFOCW</td>\n",
       "      <td>Male</td>\n",
       "      <td>0</td>\n",
       "      <td>No</td>\n",
       "      <td>No</td>\n",
       "      <td>45</td>\n",
       "      <td>No</td>\n",
       "      <td>No phone service</td>\n",
       "      <td>DSL</td>\n",
       "      <td>Yes</td>\n",
       "      <td>No</td>\n",
       "      <td>Yes</td>\n",
       "      <td>Yes</td>\n",
       "      <td>No</td>\n",
       "      <td>No</td>\n",
       "      <td>One year</td>\n",
       "      <td>No</td>\n",
       "      <td>Bank transfer (automatic)</td>\n",
       "      <td>42.30</td>\n",
       "      <td>1840.75</td>\n",
       "      <td>No</td>\n",
       "    </tr>\n",
       "    <tr>\n",
       "      <th>4</th>\n",
       "      <td>9237-HQITU</td>\n",
       "      <td>Female</td>\n",
       "      <td>0</td>\n",
       "      <td>No</td>\n",
       "      <td>No</td>\n",
       "      <td>2</td>\n",
       "      <td>Yes</td>\n",
       "      <td>No</td>\n",
       "      <td>Fiber optic</td>\n",
       "      <td>No</td>\n",
       "      <td>No</td>\n",
       "      <td>No</td>\n",
       "      <td>No</td>\n",
       "      <td>No</td>\n",
       "      <td>No</td>\n",
       "      <td>Month-to-month</td>\n",
       "      <td>Yes</td>\n",
       "      <td>Electronic check</td>\n",
       "      <td>70.70</td>\n",
       "      <td>151.65</td>\n",
       "      <td>Yes</td>\n",
       "    </tr>\n",
       "  </tbody>\n",
       "</table>\n",
       "</div>"
      ],
      "text/plain": [
       "   customerID  gender  SeniorCitizen Partner Dependents  tenure PhoneService  \\\n",
       "0  7590-VHVEG  Female              0     Yes         No       1           No   \n",
       "1  5575-GNVDE    Male              0      No         No      34          Yes   \n",
       "2  3668-QPYBK    Male              0      No         No       2          Yes   \n",
       "3  7795-CFOCW    Male              0      No         No      45           No   \n",
       "4  9237-HQITU  Female              0      No         No       2          Yes   \n",
       "\n",
       "      MultipleLines InternetService OnlineSecurity OnlineBackup  \\\n",
       "0  No phone service             DSL             No          Yes   \n",
       "1                No             DSL            Yes           No   \n",
       "2                No             DSL            Yes          Yes   \n",
       "3  No phone service             DSL            Yes           No   \n",
       "4                No     Fiber optic             No           No   \n",
       "\n",
       "  DeviceProtection TechSupport StreamingTV StreamingMovies        Contract  \\\n",
       "0               No          No          No              No  Month-to-month   \n",
       "1              Yes          No          No              No        One year   \n",
       "2               No          No          No              No  Month-to-month   \n",
       "3              Yes         Yes          No              No        One year   \n",
       "4               No          No          No              No  Month-to-month   \n",
       "\n",
       "  PaperlessBilling              PaymentMethod  MonthlyCharges TotalCharges  \\\n",
       "0              Yes           Electronic check           29.85        29.85   \n",
       "1               No               Mailed check           56.95       1889.5   \n",
       "2              Yes               Mailed check           53.85       108.15   \n",
       "3               No  Bank transfer (automatic)           42.30      1840.75   \n",
       "4              Yes           Electronic check           70.70       151.65   \n",
       "\n",
       "  Churn  \n",
       "0    No  \n",
       "1    No  \n",
       "2   Yes  \n",
       "3    No  \n",
       "4   Yes  "
      ]
     },
     "execution_count": 3,
     "metadata": {},
     "output_type": "execute_result"
    }
   ],
   "source": [
    "data_df.head(5)"
   ]
  },
  {
   "cell_type": "code",
   "execution_count": 4,
   "id": "9d06e07b",
   "metadata": {
    "execution": {
     "iopub.execute_input": "2021-08-30T11:57:35.786229Z",
     "iopub.status.busy": "2021-08-30T11:57:35.785188Z",
     "iopub.status.idle": "2021-08-30T11:57:35.805696Z",
     "shell.execute_reply": "2021-08-30T11:57:35.806242Z",
     "shell.execute_reply.started": "2021-08-30T11:56:55.802296Z"
    },
    "papermill": {
     "duration": 0.064458,
     "end_time": "2021-08-30T11:57:35.806439",
     "exception": false,
     "start_time": "2021-08-30T11:57:35.741981",
     "status": "completed"
    },
    "tags": []
   },
   "outputs": [
    {
     "name": "stdout",
     "output_type": "stream",
     "text": [
      "<class 'pandas.core.frame.DataFrame'>\n",
      "RangeIndex: 7043 entries, 0 to 7042\n",
      "Data columns (total 21 columns):\n",
      " #   Column            Non-Null Count  Dtype  \n",
      "---  ------            --------------  -----  \n",
      " 0   customerID        7043 non-null   object \n",
      " 1   gender            7043 non-null   object \n",
      " 2   SeniorCitizen     7043 non-null   int64  \n",
      " 3   Partner           7043 non-null   object \n",
      " 4   Dependents        7043 non-null   object \n",
      " 5   tenure            7043 non-null   int64  \n",
      " 6   PhoneService      7043 non-null   object \n",
      " 7   MultipleLines     7043 non-null   object \n",
      " 8   InternetService   7043 non-null   object \n",
      " 9   OnlineSecurity    7043 non-null   object \n",
      " 10  OnlineBackup      7043 non-null   object \n",
      " 11  DeviceProtection  7043 non-null   object \n",
      " 12  TechSupport       7043 non-null   object \n",
      " 13  StreamingTV       7043 non-null   object \n",
      " 14  StreamingMovies   7043 non-null   object \n",
      " 15  Contract          7043 non-null   object \n",
      " 16  PaperlessBilling  7043 non-null   object \n",
      " 17  PaymentMethod     7043 non-null   object \n",
      " 18  MonthlyCharges    7043 non-null   float64\n",
      " 19  TotalCharges      7043 non-null   object \n",
      " 20  Churn             7043 non-null   object \n",
      "dtypes: float64(1), int64(2), object(18)\n",
      "memory usage: 1.1+ MB\n"
     ]
    }
   ],
   "source": [
    "data_df.info()"
   ]
  },
  {
   "cell_type": "code",
   "execution_count": 5,
   "id": "41fddb3b",
   "metadata": {
    "execution": {
     "iopub.execute_input": "2021-08-30T11:57:35.861161Z",
     "iopub.status.busy": "2021-08-30T11:57:35.860497Z",
     "iopub.status.idle": "2021-08-30T11:57:35.901556Z",
     "shell.execute_reply": "2021-08-30T11:57:35.901998Z",
     "shell.execute_reply.started": "2021-08-30T11:56:55.840852Z"
    },
    "papermill": {
     "duration": 0.070903,
     "end_time": "2021-08-30T11:57:35.902202",
     "exception": false,
     "start_time": "2021-08-30T11:57:35.831299",
     "status": "completed"
    },
    "tags": []
   },
   "outputs": [
    {
     "data": {
      "text/plain": [
       "customerID          7043\n",
       "gender                 2\n",
       "SeniorCitizen          2\n",
       "Partner                2\n",
       "Dependents             2\n",
       "tenure                73\n",
       "PhoneService           2\n",
       "MultipleLines          3\n",
       "InternetService        3\n",
       "OnlineSecurity         3\n",
       "OnlineBackup           3\n",
       "DeviceProtection       3\n",
       "TechSupport            3\n",
       "StreamingTV            3\n",
       "StreamingMovies        3\n",
       "Contract               3\n",
       "PaperlessBilling       2\n",
       "PaymentMethod          4\n",
       "MonthlyCharges      1585\n",
       "TotalCharges        6531\n",
       "Churn                  2\n",
       "dtype: int64"
      ]
     },
     "execution_count": 5,
     "metadata": {},
     "output_type": "execute_result"
    }
   ],
   "source": [
    "data_df.nunique()"
   ]
  },
  {
   "cell_type": "markdown",
   "id": "fcc36504",
   "metadata": {
    "papermill": {
     "duration": 0.024035,
     "end_time": "2021-08-30T11:57:35.950810",
     "exception": false,
     "start_time": "2021-08-30T11:57:35.926775",
     "status": "completed"
    },
    "tags": []
   },
   "source": [
    "## See some insights :"
   ]
  },
  {
   "cell_type": "code",
   "execution_count": 6,
   "id": "3d63dced",
   "metadata": {
    "execution": {
     "iopub.execute_input": "2021-08-30T11:57:36.012813Z",
     "iopub.status.busy": "2021-08-30T11:57:36.011145Z",
     "iopub.status.idle": "2021-08-30T11:57:36.382409Z",
     "shell.execute_reply": "2021-08-30T11:57:36.381762Z",
     "shell.execute_reply.started": "2021-08-30T11:56:55.883413Z"
    },
    "papermill": {
     "duration": 0.407331,
     "end_time": "2021-08-30T11:57:36.382553",
     "exception": false,
     "start_time": "2021-08-30T11:57:35.975222",
     "status": "completed"
    },
    "tags": []
   },
   "outputs": [
    {
     "data": {
      "text/plain": [
       "<seaborn.axisgrid.FacetGrid at 0x7f49cd31b6d0>"
      ]
     },
     "execution_count": 6,
     "metadata": {},
     "output_type": "execute_result"
    },
    {
     "data": {
      "image/png": "[encoded data removed]",
      "text/plain": [
       "<Figure size 720x360 with 2 Axes>"
      ]
     },
     "metadata": {
      "needs_background": "light"
     },
     "output_type": "display_data"
    }
   ],
   "source": [
    "sb.catplot(data=data_df, kind='count', x='Churn', order=['Yes','No'], col='gender')"
   ]
  },
  {
   "cell_type": "code",
   "execution_count": 7,
   "id": "10a3bee4",
   "metadata": {
    "execution": {
     "iopub.execute_input": "2021-08-30T11:57:36.480757Z",
     "iopub.status.busy": "2021-08-30T11:57:36.447863Z",
     "iopub.status.idle": "2021-08-30T11:57:38.612395Z",
     "shell.execute_reply": "2021-08-30T11:57:38.611475Z",
     "shell.execute_reply.started": "2021-08-30T11:56:56.246997Z"
    },
    "papermill": {
     "duration": 2.203022,
     "end_time": "2021-08-30T11:57:38.612553",
     "exception": false,
     "start_time": "2021-08-30T11:57:36.409531",
     "status": "completed"
    },
    "tags": []
   },
   "outputs": [
    {
     "data": {
      "text/plain": [
       "<seaborn.axisgrid.FacetGrid at 0x7f49cd171c50>"
      ]
     },
     "execution_count": 7,
     "metadata": {},
     "output_type": "execute_result"
    },
    {
     "data": {
      "image/png": "[encoded data removed]",
      "text/plain": [
       "<Figure size 1080x360 with 3 Axes>"
      ]
     },
     "metadata": {
      "needs_background": "light"
     },
     "output_type": "display_data"
    },
    {
     "data": {
      "image/png": "[encoded data removed]",
      "text/plain": [
       "<Figure size 1080x360 with 3 Axes>"
      ]
     },
     "metadata": {
      "needs_background": "light"
     },
     "output_type": "display_data"
    },
    {
     "data": {
      "image/png": "[encoded data removed]",
      "text/plain": [
       "<Figure size 1080x360 with 3 Axes>"
      ]
     },
     "metadata": {
      "needs_background": "light"
     },
     "output_type": "display_data"
    },
    {
     "data": {
      "image/png": "[encoded data removed]",
      "text/plain": [
       "<Figure size 1080x360 with 3 Axes>"
      ]
     },
     "metadata": {
      "needs_background": "light"
     },
     "output_type": "display_data"
    }
   ],
   "source": [
    "sb.catplot(data=data_df, kind='count', x='Churn', order=['Yes','No'], col='InternetService')\n",
    "sb.catplot(data=data_df, kind='count', x='Churn', order=['Yes','No'], col='OnlineSecurity')\n",
    "sb.catplot(data=data_df, kind='count', x='Churn', order=['Yes','No'], col='TechSupport')\n",
    "sb.catplot(data=data_df, kind='count', x='Churn', order=['Yes','No'], col='Contract')"
   ]
  },
  {
   "cell_type": "code",
   "execution_count": 8,
   "id": "75548d19",
   "metadata": {
    "execution": {
     "iopub.execute_input": "2021-08-30T11:57:38.683387Z",
     "iopub.status.busy": "2021-08-30T11:57:38.682699Z",
     "iopub.status.idle": "2021-08-30T11:57:39.318651Z",
     "shell.execute_reply": "2021-08-30T11:57:39.317742Z",
     "shell.execute_reply.started": "2021-08-30T11:56:58.415531Z"
    },
    "papermill": {
     "duration": 0.675539,
     "end_time": "2021-08-30T11:57:39.318803",
     "exception": false,
     "start_time": "2021-08-30T11:57:38.643264",
     "status": "completed"
    },
    "tags": []
   },
   "outputs": [
    {
     "data": {
      "text/plain": [
       "<seaborn.axisgrid.FacetGrid at 0x7f49ccfd1e10>"
      ]
     },
     "execution_count": 8,
     "metadata": {},
     "output_type": "execute_result"
    },
    {
     "data": {
      "image/png": "[encoded data removed]",
      "text/plain": [
       "<Figure size 1440x360 with 4 Axes>"
      ]
     },
     "metadata": {
      "needs_background": "light"
     },
     "output_type": "display_data"
    }
   ],
   "source": [
    "sb.catplot(data=data_df, kind='count', x='Churn', order=['Yes','No'], col='PaymentMethod')"
   ]
  },
  {
   "cell_type": "markdown",
   "id": "bd52ff61",
   "metadata": {
    "papermill": {
     "duration": 0.030615,
     "end_time": "2021-08-30T11:57:39.380253",
     "exception": false,
     "start_time": "2021-08-30T11:57:39.349638",
     "status": "completed"
    },
    "tags": []
   },
   "source": [
    "### We thought that gender would make any difference but it seems to be not as we thought.\n",
    "### And as we see there are some reasons for churn :\n",
    "1. Internet Service = Fiber optic ---- (which means FI-OP service need some care)\n",
    "2. Online Security = No ---- (Online Security needs to be activated users)\n",
    "3. Tech Support = No ---- (Tech Support service need some care)\n",
    "4. Contract = Month to month ---- (We need to extend contract per 6 months for example)\n",
    "5. Payment Method = Electronic Check ---- (Maybe because it's an easy way!)"
   ]
  },
  {
   "cell_type": "markdown",
   "id": "68be5082",
   "metadata": {
    "papermill": {
     "duration": 0.030031,
     "end_time": "2021-08-30T11:57:39.441413",
     "exception": false,
     "start_time": "2021-08-30T11:57:39.411382",
     "status": "completed"
    },
    "tags": []
   },
   "source": [
    "## Getting dummies of non numirical columns :"
   ]
  },
  {
   "cell_type": "code",
   "execution_count": 9,
   "id": "489273b3",
   "metadata": {
    "execution": {
     "iopub.execute_input": "2021-08-30T11:57:39.508663Z",
     "iopub.status.busy": "2021-08-30T11:57:39.507970Z",
     "iopub.status.idle": "2021-08-30T11:57:39.541319Z",
     "shell.execute_reply": "2021-08-30T11:57:39.540627Z",
     "shell.execute_reply.started": "2021-08-30T11:56:59.092297Z"
    },
    "papermill": {
     "duration": 0.069894,
     "end_time": "2021-08-30T11:57:39.541492",
     "exception": false,
     "start_time": "2021-08-30T11:57:39.471598",
     "status": "completed"
    },
    "tags": []
   },
   "outputs": [],
   "source": [
    "dum_columns = data_df.columns[data_df.nunique().values<5]"
   ]
  },
  {
   "cell_type": "code",
   "execution_count": 10,
   "id": "b608149b",
   "metadata": {
    "execution": {
     "iopub.execute_input": "2021-08-30T11:57:39.610985Z",
     "iopub.status.busy": "2021-08-30T11:57:39.610335Z",
     "iopub.status.idle": "2021-08-30T11:57:39.668217Z",
     "shell.execute_reply": "2021-08-30T11:57:39.667665Z",
     "shell.execute_reply.started": "2021-08-30T11:56:59.133493Z"
    },
    "papermill": {
     "duration": 0.095962,
     "end_time": "2021-08-30T11:57:39.668357",
     "exception": false,
     "start_time": "2021-08-30T11:57:39.572395",
     "status": "completed"
    },
    "tags": []
   },
   "outputs": [
    {
     "data": {
      "text/html": [
       "<div>\n",
       "<style scoped>\n",
       "    .dataframe tbody tr th:only-of-type {\n",
       "        vertical-align: middle;\n",
       "    }\n",
       "\n",
       "    .dataframe tbody tr th {\n",
       "        vertical-align: top;\n",
       "    }\n",
       "\n",
       "    .dataframe thead th {\n",
       "        text-align: right;\n",
       "    }\n",
       "</style>\n",
       "<table border=\"1\" class=\"dataframe\">\n",
       "  <thead>\n",
       "    <tr style=\"text-align: right;\">\n",
       "      <th></th>\n",
       "      <th>customerID</th>\n",
       "      <th>tenure</th>\n",
       "      <th>MonthlyCharges</th>\n",
       "      <th>TotalCharges</th>\n",
       "      <th>gender_Female</th>\n",
       "      <th>gender_Male</th>\n",
       "      <th>SeniorCitizen_0</th>\n",
       "      <th>SeniorCitizen_1</th>\n",
       "      <th>Partner_No</th>\n",
       "      <th>Partner_Yes</th>\n",
       "      <th>Dependents_No</th>\n",
       "      <th>Dependents_Yes</th>\n",
       "      <th>PhoneService_No</th>\n",
       "      <th>PhoneService_Yes</th>\n",
       "      <th>MultipleLines_No</th>\n",
       "      <th>MultipleLines_No phone service</th>\n",
       "      <th>MultipleLines_Yes</th>\n",
       "      <th>InternetService_DSL</th>\n",
       "      <th>InternetService_Fiber optic</th>\n",
       "      <th>InternetService_No</th>\n",
       "      <th>OnlineSecurity_No</th>\n",
       "      <th>OnlineSecurity_No internet service</th>\n",
       "      <th>OnlineSecurity_Yes</th>\n",
       "      <th>OnlineBackup_No</th>\n",
       "      <th>OnlineBackup_No internet service</th>\n",
       "      <th>OnlineBackup_Yes</th>\n",
       "      <th>DeviceProtection_No</th>\n",
       "      <th>DeviceProtection_No internet service</th>\n",
       "      <th>DeviceProtection_Yes</th>\n",
       "      <th>TechSupport_No</th>\n",
       "      <th>TechSupport_No internet service</th>\n",
       "      <th>TechSupport_Yes</th>\n",
       "      <th>StreamingTV_No</th>\n",
       "      <th>StreamingTV_No internet service</th>\n",
       "      <th>StreamingTV_Yes</th>\n",
       "      <th>StreamingMovies_No</th>\n",
       "      <th>StreamingMovies_No internet service</th>\n",
       "      <th>StreamingMovies_Yes</th>\n",
       "      <th>Contract_Month-to-month</th>\n",
       "      <th>Contract_One year</th>\n",
       "      <th>Contract_Two year</th>\n",
       "      <th>PaperlessBilling_No</th>\n",
       "      <th>PaperlessBilling_Yes</th>\n",
       "      <th>PaymentMethod_Bank transfer (automatic)</th>\n",
       "      <th>PaymentMethod_Credit card (automatic)</th>\n",
       "      <th>PaymentMethod_Electronic check</th>\n",
       "      <th>PaymentMethod_Mailed check</th>\n",
       "      <th>Churn_No</th>\n",
       "      <th>Churn_Yes</th>\n",
       "    </tr>\n",
       "  </thead>\n",
       "  <tbody>\n",
       "    <tr>\n",
       "      <th>0</th>\n",
       "      <td>7590-VHVEG</td>\n",
       "      <td>1</td>\n",
       "      <td>29.85</td>\n",
       "      <td>29.85</td>\n",
       "      <td>1</td>\n",
       "      <td>0</td>\n",
       "      <td>1</td>\n",
       "      <td>0</td>\n",
       "      <td>0</td>\n",
       "      <td>1</td>\n",
       "      <td>1</td>\n",
       "      <td>0</td>\n",
       "      <td>1</td>\n",
       "      <td>0</td>\n",
       "      <td>0</td>\n",
       "      <td>1</td>\n",
       "      <td>0</td>\n",
       "      <td>1</td>\n",
       "      <td>0</td>\n",
       "      <td>0</td>\n",
       "      <td>1</td>\n",
       "      <td>0</td>\n",
       "      <td>0</td>\n",
       "      <td>0</td>\n",
       "      <td>0</td>\n",
       "      <td>1</td>\n",
       "      <td>1</td>\n",
       "      <td>0</td>\n",
       "      <td>0</td>\n",
       "      <td>1</td>\n",
       "      <td>0</td>\n",
       "      <td>0</td>\n",
       "      <td>1</td>\n",
       "      <td>0</td>\n",
       "      <td>0</td>\n",
       "      <td>1</td>\n",
       "      <td>0</td>\n",
       "      <td>0</td>\n",
       "      <td>1</td>\n",
       "      <td>0</td>\n",
       "      <td>0</td>\n",
       "      <td>0</td>\n",
       "      <td>1</td>\n",
       "      <td>0</td>\n",
       "      <td>0</td>\n",
       "      <td>1</td>\n",
       "      <td>0</td>\n",
       "      <td>1</td>\n",
       "      <td>0</td>\n",
       "    </tr>\n",
       "    <tr>\n",
       "      <th>1</th>\n",
       "      <td>5575-GNVDE</td>\n",
       "      <td>34</td>\n",
       "      <td>56.95</td>\n",
       "      <td>1889.5</td>\n",
       "      <td>0</td>\n",
       "      <td>1</td>\n",
       "      <td>1</td>\n",
       "      <td>0</td>\n",
       "      <td>1</td>\n",
       "      <td>0</td>\n",
       "      <td>1</td>\n",
       "      <td>0</td>\n",
       "      <td>0</td>\n",
       "      <td>1</td>\n",
       "      <td>1</td>\n",
       "      <td>0</td>\n",
       "      <td>0</td>\n",
       "      <td>1</td>\n",
       "      <td>0</td>\n",
       "      <td>0</td>\n",
       "      <td>0</td>\n",
       "      <td>0</td>\n",
       "      <td>1</td>\n",
       "      <td>1</td>\n",
       "      <td>0</td>\n",
       "      <td>0</td>\n",
       "      <td>0</td>\n",
       "      <td>0</td>\n",
       "      <td>1</td>\n",
       "      <td>1</td>\n",
       "      <td>0</td>\n",
       "      <td>0</td>\n",
       "      <td>1</td>\n",
       "      <td>0</td>\n",
       "      <td>0</td>\n",
       "      <td>1</td>\n",
       "      <td>0</td>\n",
       "      <td>0</td>\n",
       "      <td>0</td>\n",
       "      <td>1</td>\n",
       "      <td>0</td>\n",
       "      <td>1</td>\n",
       "      <td>0</td>\n",
       "      <td>0</td>\n",
       "      <td>0</td>\n",
       "      <td>0</td>\n",
       "      <td>1</td>\n",
       "      <td>1</td>\n",
       "      <td>0</td>\n",
       "    </tr>\n",
       "    <tr>\n",
       "      <th>2</th>\n",
       "      <td>3668-QPYBK</td>\n",
       "      <td>2</td>\n",
       "      <td>53.85</td>\n",
       "      <td>108.15</td>\n",
       "      <td>0</td>\n",
       "      <td>1</td>\n",
       "      <td>1</td>\n",
       "      <td>0</td>\n",
       "      <td>1</td>\n",
       "      <td>0</td>\n",
       "      <td>1</td>\n",
       "      <td>0</td>\n",
       "      <td>0</td>\n",
       "      <td>1</td>\n",
       "      <td>1</td>\n",
       "      <td>0</td>\n",
       "      <td>0</td>\n",
       "      <td>1</td>\n",
       "      <td>0</td>\n",
       "      <td>0</td>\n",
       "      <td>0</td>\n",
       "      <td>0</td>\n",
       "      <td>1</td>\n",
       "      <td>0</td>\n",
       "      <td>0</td>\n",
       "      <td>1</td>\n",
       "      <td>1</td>\n",
       "      <td>0</td>\n",
       "      <td>0</td>\n",
       "      <td>1</td>\n",
       "      <td>0</td>\n",
       "      <td>0</td>\n",
       "      <td>1</td>\n",
       "      <td>0</td>\n",
       "      <td>0</td>\n",
       "      <td>1</td>\n",
       "      <td>0</td>\n",
       "      <td>0</td>\n",
       "      <td>1</td>\n",
       "      <td>0</td>\n",
       "      <td>0</td>\n",
       "      <td>0</td>\n",
       "      <td>1</td>\n",
       "      <td>0</td>\n",
       "      <td>0</td>\n",
       "      <td>0</td>\n",
       "      <td>1</td>\n",
       "      <td>0</td>\n",
       "      <td>1</td>\n",
       "    </tr>\n",
       "    <tr>\n",
       "      <th>3</th>\n",
       "      <td>7795-CFOCW</td>\n",
       "      <td>45</td>\n",
       "      <td>42.30</td>\n",
       "      <td>1840.75</td>\n",
       "      <td>0</td>\n",
       "      <td>1</td>\n",
       "      <td>1</td>\n",
       "      <td>0</td>\n",
       "      <td>1</td>\n",
       "      <td>0</td>\n",
       "      <td>1</td>\n",
       "      <td>0</td>\n",
       "      <td>1</td>\n",
       "      <td>0</td>\n",
       "      <td>0</td>\n",
       "      <td>1</td>\n",
       "      <td>0</td>\n",
       "      <td>1</td>\n",
       "      <td>0</td>\n",
       "      <td>0</td>\n",
       "      <td>0</td>\n",
       "      <td>0</td>\n",
       "      <td>1</td>\n",
       "      <td>1</td>\n",
       "      <td>0</td>\n",
       "      <td>0</td>\n",
       "      <td>0</td>\n",
       "      <td>0</td>\n",
       "      <td>1</td>\n",
       "      <td>0</td>\n",
       "      <td>0</td>\n",
       "      <td>1</td>\n",
       "      <td>1</td>\n",
       "      <td>0</td>\n",
       "      <td>0</td>\n",
       "      <td>1</td>\n",
       "      <td>0</td>\n",
       "      <td>0</td>\n",
       "      <td>0</td>\n",
       "      <td>1</td>\n",
       "      <td>0</td>\n",
       "      <td>1</td>\n",
       "      <td>0</td>\n",
       "      <td>1</td>\n",
       "      <td>0</td>\n",
       "      <td>0</td>\n",
       "      <td>0</td>\n",
       "      <td>1</td>\n",
       "      <td>0</td>\n",
       "    </tr>\n",
       "    <tr>\n",
       "      <th>4</th>\n",
       "      <td>9237-HQITU</td>\n",
       "      <td>2</td>\n",
       "      <td>70.70</td>\n",
       "      <td>151.65</td>\n",
       "      <td>1</td>\n",
       "      <td>0</td>\n",
       "      <td>1</td>\n",
       "      <td>0</td>\n",
       "      <td>1</td>\n",
       "      <td>0</td>\n",
       "      <td>1</td>\n",
       "      <td>0</td>\n",
       "      <td>0</td>\n",
       "      <td>1</td>\n",
       "      <td>1</td>\n",
       "      <td>0</td>\n",
       "      <td>0</td>\n",
       "      <td>0</td>\n",
       "      <td>1</td>\n",
       "      <td>0</td>\n",
       "      <td>1</td>\n",
       "      <td>0</td>\n",
       "      <td>0</td>\n",
       "      <td>1</td>\n",
       "      <td>0</td>\n",
       "      <td>0</td>\n",
       "      <td>1</td>\n",
       "      <td>0</td>\n",
       "      <td>0</td>\n",
       "      <td>1</td>\n",
       "      <td>0</td>\n",
       "      <td>0</td>\n",
       "      <td>1</td>\n",
       "      <td>0</td>\n",
       "      <td>0</td>\n",
       "      <td>1</td>\n",
       "      <td>0</td>\n",
       "      <td>0</td>\n",
       "      <td>1</td>\n",
       "      <td>0</td>\n",
       "      <td>0</td>\n",
       "      <td>0</td>\n",
       "      <td>1</td>\n",
       "      <td>0</td>\n",
       "      <td>0</td>\n",
       "      <td>1</td>\n",
       "      <td>0</td>\n",
       "      <td>0</td>\n",
       "      <td>1</td>\n",
       "    </tr>\n",
       "  </tbody>\n",
       "</table>\n",
       "</div>"
      ],
      "text/plain": [
       "   customerID  tenure  MonthlyCharges TotalCharges  gender_Female  \\\n",
       "0  7590-VHVEG       1           29.85        29.85              1   \n",
       "1  5575-GNVDE      34           56.95       1889.5              0   \n",
       "2  3668-QPYBK       2           53.85       108.15              0   \n",
       "3  7795-CFOCW      45           42.30      1840.75              0   \n",
       "4  9237-HQITU       2           70.70       151.65              1   \n",
       "\n",
       "   gender_Male  SeniorCitizen_0  SeniorCitizen_1  Partner_No  Partner_Yes  \\\n",
       "0            0                1                0           0            1   \n",
       "1            1                1                0           1            0   \n",
       "2            1                1                0           1            0   \n",
       "3            1                1                0           1            0   \n",
       "4            0                1                0           1            0   \n",
       "\n",
       "   Dependents_No  Dependents_Yes  PhoneService_No  PhoneService_Yes  \\\n",
       "0              1               0                1                 0   \n",
       "1              1               0                0                 1   \n",
       "2              1               0                0                 1   \n",
       "3              1               0                1                 0   \n",
       "4              1               0                0                 1   \n",
       "\n",
       "   MultipleLines_No  MultipleLines_No phone service  MultipleLines_Yes  \\\n",
       "0                 0                               1                  0   \n",
       "1                 1                               0                  0   \n",
       "2                 1                               0                  0   \n",
       "3                 0                               1                  0   \n",
       "4                 1                               0                  0   \n",
       "\n",
       "   InternetService_DSL  InternetService_Fiber optic  InternetService_No  \\\n",
       "0                    1                            0                   0   \n",
       "1                    1                            0                   0   \n",
       "2                    1                            0                   0   \n",
       "3                    1                            0                   0   \n",
       "4                    0                            1                   0   \n",
       "\n",
       "   OnlineSecurity_No  OnlineSecurity_No internet service  OnlineSecurity_Yes  \\\n",
       "0                  1                                   0                   0   \n",
       "1                  0                                   0                   1   \n",
       "2                  0                                   0                   1   \n",
       "3                  0                                   0                   1   \n",
       "4                  1                                   0                   0   \n",
       "\n",
       "   OnlineBackup_No  OnlineBackup_No internet service  OnlineBackup_Yes  \\\n",
       "0                0                                 0                 1   \n",
       "1                1                                 0                 0   \n",
       "2                0                                 0                 1   \n",
       "3                1                                 0                 0   \n",
       "4                1                                 0                 0   \n",
       "\n",
       "   DeviceProtection_No  DeviceProtection_No internet service  \\\n",
       "0                    1                                     0   \n",
       "1                    0                                     0   \n",
       "2                    1                                     0   \n",
       "3                    0                                     0   \n",
       "4                    1                                     0   \n",
       "\n",
       "   DeviceProtection_Yes  TechSupport_No  TechSupport_No internet service  \\\n",
       "0                     0               1                                0   \n",
       "1                     1               1                                0   \n",
       "2                     0               1                                0   \n",
       "3                     1               0                                0   \n",
       "4                     0               1                                0   \n",
       "\n",
       "   TechSupport_Yes  StreamingTV_No  StreamingTV_No internet service  \\\n",
       "0                0               1                                0   \n",
       "1                0               1                                0   \n",
       "2                0               1                                0   \n",
       "3                1               1                                0   \n",
       "4                0               1                                0   \n",
       "\n",
       "   StreamingTV_Yes  StreamingMovies_No  StreamingMovies_No internet service  \\\n",
       "0                0                   1                                    0   \n",
       "1                0                   1                                    0   \n",
       "2                0                   1                                    0   \n",
       "3                0                   1                                    0   \n",
       "4                0                   1                                    0   \n",
       "\n",
       "   StreamingMovies_Yes  Contract_Month-to-month  Contract_One year  \\\n",
       "0                    0                        1                  0   \n",
       "1                    0                        0                  1   \n",
       "2                    0                        1                  0   \n",
       "3                    0                        0                  1   \n",
       "4                    0                        1                  0   \n",
       "\n",
       "   Contract_Two year  PaperlessBilling_No  PaperlessBilling_Yes  \\\n",
       "0                  0                    0                     1   \n",
       "1                  0                    1                     0   \n",
       "2                  0                    0                     1   \n",
       "3                  0                    1                     0   \n",
       "4                  0                    0                     1   \n",
       "\n",
       "   PaymentMethod_Bank transfer (automatic)  \\\n",
       "0                                        0   \n",
       "1                                        0   \n",
       "2                                        0   \n",
       "3                                        1   \n",
       "4                                        0   \n",
       "\n",
       "   PaymentMethod_Credit card (automatic)  PaymentMethod_Electronic check  \\\n",
       "0                                      0                               1   \n",
       "1                                      0                               0   \n",
       "2                                      0                               0   \n",
       "3                                      0                               0   \n",
       "4                                      0                               1   \n",
       "\n",
       "   PaymentMethod_Mailed check  Churn_No  Churn_Yes  \n",
       "0                           0         1          0  \n",
       "1                           1         1          0  \n",
       "2                           1         0          1  \n",
       "3                           0         1          0  \n",
       "4                           0         0          1  "
      ]
     },
     "execution_count": 10,
     "metadata": {},
     "output_type": "execute_result"
    }
   ],
   "source": [
    "dum_data = pd.get_dummies(data_df, columns=dum_columns)\n",
    "dum_data.head()"
   ]
  },
  {
   "cell_type": "code",
   "execution_count": 11,
   "id": "4641ffd5",
   "metadata": {
    "execution": {
     "iopub.execute_input": "2021-08-30T11:57:39.737667Z",
     "iopub.status.busy": "2021-08-30T11:57:39.736980Z",
     "iopub.status.idle": "2021-08-30T11:57:41.545412Z",
     "shell.execute_reply": "2021-08-30T11:57:41.545924Z",
     "shell.execute_reply.started": "2021-08-30T11:56:59.205538Z"
    },
    "papermill": {
     "duration": 1.846488,
     "end_time": "2021-08-30T11:57:41.546116",
     "exception": false,
     "start_time": "2021-08-30T11:57:39.699628",
     "status": "completed"
    },
    "tags": []
   },
   "outputs": [
    {
     "data": {
      "text/plain": [
       "<function matplotlib.pyplot.tight_layout(*, pad=1.08, h_pad=None, w_pad=None, rect=None)>"
      ]
     },
     "execution_count": 11,
     "metadata": {},
     "output_type": "execute_result"
    },
    {
     "data": {
      "image/png": "[encoded data removed]",
      "text/plain": [
       "<Figure size 1296x1008 with 2 Axes>"
      ]
     },
     "metadata": {
      "needs_background": "light"
     },
     "output_type": "display_data"
    }
   ],
   "source": [
    "plt.figure(figsize=(18,14))\n",
    "sb.heatmap(dum_data.corr())\n",
    "plt.tight_layout\n",
    "# It seems we have many columns to deal with"
   ]
  },
  {
   "cell_type": "markdown",
   "id": "b059a916",
   "metadata": {
    "papermill": {
     "duration": 0.035532,
     "end_time": "2021-08-30T11:57:41.617652",
     "exception": false,
     "start_time": "2021-08-30T11:57:41.582120",
     "status": "completed"
    },
    "tags": []
   },
   "source": [
    "## Let's see which columns correlated churn :"
   ]
  },
  {
   "cell_type": "code",
   "execution_count": 12,
   "id": "8509f9e0",
   "metadata": {
    "execution": {
     "iopub.execute_input": "2021-08-30T11:57:41.695622Z",
     "iopub.status.busy": "2021-08-30T11:57:41.694935Z",
     "iopub.status.idle": "2021-08-30T11:57:41.698283Z",
     "shell.execute_reply": "2021-08-30T11:57:41.697689Z",
     "shell.execute_reply.started": "2021-08-30T11:57:01.059124Z"
    },
    "papermill": {
     "duration": 0.044994,
     "end_time": "2021-08-30T11:57:41.698457",
     "exception": false,
     "start_time": "2021-08-30T11:57:41.653463",
     "status": "completed"
    },
    "tags": []
   },
   "outputs": [],
   "source": [
    "def find_corr_with (Data,column,num_of_corr_cols) :\n",
    "\n",
    "    corr = Data.corr()[column].reindex(Data.corr().drop(column,axis=1).columns)\n",
    "    corr = corr.sort_values()\n",
    "    corr = corr[::-1]\n",
    "    \n",
    "    return corr.head(num_of_corr_cols)"
   ]
  },
  {
   "cell_type": "code",
   "execution_count": 13,
   "id": "47b94868",
   "metadata": {
    "execution": {
     "iopub.execute_input": "2021-08-30T11:57:41.776799Z",
     "iopub.status.busy": "2021-08-30T11:57:41.776164Z",
     "iopub.status.idle": "2021-08-30T11:57:41.877129Z",
     "shell.execute_reply": "2021-08-30T11:57:41.876438Z",
     "shell.execute_reply.started": "2021-08-30T11:57:01.067490Z"
    },
    "papermill": {
     "duration": 0.142187,
     "end_time": "2021-08-30T11:57:41.877292",
     "exception": false,
     "start_time": "2021-08-30T11:57:41.735105",
     "status": "completed"
    },
    "tags": []
   },
   "outputs": [
    {
     "data": {
      "text/plain": [
       "Contract_Month-to-month           0.405103\n",
       "OnlineSecurity_No                 0.342637\n",
       "TechSupport_No                    0.337281\n",
       "InternetService_Fiber optic       0.308020\n",
       "PaymentMethod_Electronic check    0.301919\n",
       "OnlineBackup_No                   0.268005\n",
       "DeviceProtection_No               0.252481\n",
       "MonthlyCharges                    0.193356\n",
       "PaperlessBilling_Yes              0.191825\n",
       "Dependents_No                     0.164221\n",
       "Name: Churn_Yes, dtype: float64"
      ]
     },
     "execution_count": 13,
     "metadata": {},
     "output_type": "execute_result"
    }
   ],
   "source": [
    "corr_cols = find_corr_with(dum_data, 'Churn_Yes', 10)\n",
    "corr_cols"
   ]
  },
  {
   "cell_type": "code",
   "execution_count": 14,
   "id": "8f8dc6c0",
   "metadata": {
    "execution": {
     "iopub.execute_input": "2021-08-30T11:57:41.956889Z",
     "iopub.status.busy": "2021-08-30T11:57:41.955530Z",
     "iopub.status.idle": "2021-08-30T11:57:41.978529Z",
     "shell.execute_reply": "2021-08-30T11:57:41.977947Z",
     "shell.execute_reply.started": "2021-08-30T11:57:01.180827Z"
    },
    "papermill": {
     "duration": 0.064944,
     "end_time": "2021-08-30T11:57:41.978674",
     "exception": false,
     "start_time": "2021-08-30T11:57:41.913730",
     "status": "completed"
    },
    "tags": []
   },
   "outputs": [
    {
     "data": {
      "text/html": [
       "<div>\n",
       "<style scoped>\n",
       "    .dataframe tbody tr th:only-of-type {\n",
       "        vertical-align: middle;\n",
       "    }\n",
       "\n",
       "    .dataframe tbody tr th {\n",
       "        vertical-align: top;\n",
       "    }\n",
       "\n",
       "    .dataframe thead th {\n",
       "        text-align: right;\n",
       "    }\n",
       "</style>\n",
       "<table border=\"1\" class=\"dataframe\">\n",
       "  <thead>\n",
       "    <tr style=\"text-align: right;\">\n",
       "      <th></th>\n",
       "      <th>Contract_Month-to-month</th>\n",
       "      <th>OnlineSecurity_No</th>\n",
       "      <th>TechSupport_No</th>\n",
       "      <th>InternetService_Fiber optic</th>\n",
       "      <th>PaymentMethod_Electronic check</th>\n",
       "      <th>OnlineBackup_No</th>\n",
       "      <th>DeviceProtection_No</th>\n",
       "      <th>MonthlyCharges</th>\n",
       "      <th>PaperlessBilling_Yes</th>\n",
       "      <th>Dependents_No</th>\n",
       "    </tr>\n",
       "  </thead>\n",
       "  <tbody>\n",
       "    <tr>\n",
       "      <th>0</th>\n",
       "      <td>1</td>\n",
       "      <td>1</td>\n",
       "      <td>1</td>\n",
       "      <td>0</td>\n",
       "      <td>1</td>\n",
       "      <td>0</td>\n",
       "      <td>1</td>\n",
       "      <td>29.85</td>\n",
       "      <td>1</td>\n",
       "      <td>1</td>\n",
       "    </tr>\n",
       "    <tr>\n",
       "      <th>1</th>\n",
       "      <td>0</td>\n",
       "      <td>0</td>\n",
       "      <td>1</td>\n",
       "      <td>0</td>\n",
       "      <td>0</td>\n",
       "      <td>1</td>\n",
       "      <td>0</td>\n",
       "      <td>56.95</td>\n",
       "      <td>0</td>\n",
       "      <td>1</td>\n",
       "    </tr>\n",
       "    <tr>\n",
       "      <th>2</th>\n",
       "      <td>1</td>\n",
       "      <td>0</td>\n",
       "      <td>1</td>\n",
       "      <td>0</td>\n",
       "      <td>0</td>\n",
       "      <td>0</td>\n",
       "      <td>1</td>\n",
       "      <td>53.85</td>\n",
       "      <td>1</td>\n",
       "      <td>1</td>\n",
       "    </tr>\n",
       "    <tr>\n",
       "      <th>3</th>\n",
       "      <td>0</td>\n",
       "      <td>0</td>\n",
       "      <td>0</td>\n",
       "      <td>0</td>\n",
       "      <td>0</td>\n",
       "      <td>1</td>\n",
       "      <td>0</td>\n",
       "      <td>42.30</td>\n",
       "      <td>0</td>\n",
       "      <td>1</td>\n",
       "    </tr>\n",
       "    <tr>\n",
       "      <th>4</th>\n",
       "      <td>1</td>\n",
       "      <td>1</td>\n",
       "      <td>1</td>\n",
       "      <td>1</td>\n",
       "      <td>1</td>\n",
       "      <td>1</td>\n",
       "      <td>1</td>\n",
       "      <td>70.70</td>\n",
       "      <td>1</td>\n",
       "      <td>1</td>\n",
       "    </tr>\n",
       "    <tr>\n",
       "      <th>...</th>\n",
       "      <td>...</td>\n",
       "      <td>...</td>\n",
       "      <td>...</td>\n",
       "      <td>...</td>\n",
       "      <td>...</td>\n",
       "      <td>...</td>\n",
       "      <td>...</td>\n",
       "      <td>...</td>\n",
       "      <td>...</td>\n",
       "      <td>...</td>\n",
       "    </tr>\n",
       "    <tr>\n",
       "      <th>7038</th>\n",
       "      <td>0</td>\n",
       "      <td>0</td>\n",
       "      <td>0</td>\n",
       "      <td>0</td>\n",
       "      <td>0</td>\n",
       "      <td>1</td>\n",
       "      <td>0</td>\n",
       "      <td>84.80</td>\n",
       "      <td>1</td>\n",
       "      <td>0</td>\n",
       "    </tr>\n",
       "    <tr>\n",
       "      <th>7039</th>\n",
       "      <td>0</td>\n",
       "      <td>1</td>\n",
       "      <td>1</td>\n",
       "      <td>1</td>\n",
       "      <td>0</td>\n",
       "      <td>0</td>\n",
       "      <td>0</td>\n",
       "      <td>103.20</td>\n",
       "      <td>1</td>\n",
       "      <td>0</td>\n",
       "    </tr>\n",
       "    <tr>\n",
       "      <th>7040</th>\n",
       "      <td>1</td>\n",
       "      <td>0</td>\n",
       "      <td>1</td>\n",
       "      <td>0</td>\n",
       "      <td>1</td>\n",
       "      <td>1</td>\n",
       "      <td>1</td>\n",
       "      <td>29.60</td>\n",
       "      <td>1</td>\n",
       "      <td>0</td>\n",
       "    </tr>\n",
       "    <tr>\n",
       "      <th>7041</th>\n",
       "      <td>1</td>\n",
       "      <td>1</td>\n",
       "      <td>1</td>\n",
       "      <td>1</td>\n",
       "      <td>0</td>\n",
       "      <td>1</td>\n",
       "      <td>1</td>\n",
       "      <td>74.40</td>\n",
       "      <td>1</td>\n",
       "      <td>1</td>\n",
       "    </tr>\n",
       "    <tr>\n",
       "      <th>7042</th>\n",
       "      <td>0</td>\n",
       "      <td>0</td>\n",
       "      <td>0</td>\n",
       "      <td>1</td>\n",
       "      <td>0</td>\n",
       "      <td>1</td>\n",
       "      <td>0</td>\n",
       "      <td>105.65</td>\n",
       "      <td>1</td>\n",
       "      <td>1</td>\n",
       "    </tr>\n",
       "  </tbody>\n",
       "</table>\n",
       "<p>7043 rows × 10 columns</p>\n",
       "</div>"
      ],
      "text/plain": [
       "      Contract_Month-to-month  OnlineSecurity_No  TechSupport_No  \\\n",
       "0                           1                  1               1   \n",
       "1                           0                  0               1   \n",
       "2                           1                  0               1   \n",
       "3                           0                  0               0   \n",
       "4                           1                  1               1   \n",
       "...                       ...                ...             ...   \n",
       "7038                        0                  0               0   \n",
       "7039                        0                  1               1   \n",
       "7040                        1                  0               1   \n",
       "7041                        1                  1               1   \n",
       "7042                        0                  0               0   \n",
       "\n",
       "      InternetService_Fiber optic  PaymentMethod_Electronic check  \\\n",
       "0                               0                               1   \n",
       "1                               0                               0   \n",
       "2                               0                               0   \n",
       "3                               0                               0   \n",
       "4                               1                               1   \n",
       "...                           ...                             ...   \n",
       "7038                            0                               0   \n",
       "7039                            1                               0   \n",
       "7040                            0                               1   \n",
       "7041                            1                               0   \n",
       "7042                            1                               0   \n",
       "\n",
       "      OnlineBackup_No  DeviceProtection_No  MonthlyCharges  \\\n",
       "0                   0                    1           29.85   \n",
       "1                   1                    0           56.95   \n",
       "2                   0                    1           53.85   \n",
       "3                   1                    0           42.30   \n",
       "4                   1                    1           70.70   \n",
       "...               ...                  ...             ...   \n",
       "7038                1                    0           84.80   \n",
       "7039                0                    0          103.20   \n",
       "7040                1                    1           29.60   \n",
       "7041                1                    1           74.40   \n",
       "7042                1                    0          105.65   \n",
       "\n",
       "      PaperlessBilling_Yes  Dependents_No  \n",
       "0                        1              1  \n",
       "1                        0              1  \n",
       "2                        1              1  \n",
       "3                        0              1  \n",
       "4                        1              1  \n",
       "...                    ...            ...  \n",
       "7038                     1              0  \n",
       "7039                     1              0  \n",
       "7040                     1              0  \n",
       "7041                     1              1  \n",
       "7042                     1              1  \n",
       "\n",
       "[7043 rows x 10 columns]"
      ]
     },
     "execution_count": 14,
     "metadata": {},
     "output_type": "execute_result"
    }
   ],
   "source": [
    "corr_data = dum_data[corr_cols.index]\n",
    "corr_data"
   ]
  },
  {
   "cell_type": "markdown",
   "id": "f5e66cb9",
   "metadata": {
    "papermill": {
     "duration": 0.037017,
     "end_time": "2021-08-30T11:57:42.053129",
     "exception": false,
     "start_time": "2021-08-30T11:57:42.016112",
     "status": "completed"
    },
    "tags": []
   },
   "source": [
    "## Split Data to enter the Machine Learning model :"
   ]
  },
  {
   "cell_type": "code",
   "execution_count": 15,
   "id": "11a33eb8",
   "metadata": {
    "execution": {
     "iopub.execute_input": "2021-08-30T11:57:42.133987Z",
     "iopub.status.busy": "2021-08-30T11:57:42.133364Z",
     "iopub.status.idle": "2021-08-30T11:57:42.349941Z",
     "shell.execute_reply": "2021-08-30T11:57:42.350522Z",
     "shell.execute_reply.started": "2021-08-30T11:57:01.204355Z"
    },
    "papermill": {
     "duration": 0.260402,
     "end_time": "2021-08-30T11:57:42.350756",
     "exception": false,
     "start_time": "2021-08-30T11:57:42.090354",
     "status": "completed"
    },
    "tags": []
   },
   "outputs": [],
   "source": [
    "from sklearn.model_selection import train_test_split"
   ]
  },
  {
   "cell_type": "code",
   "execution_count": 16,
   "id": "18e18e3f",
   "metadata": {
    "execution": {
     "iopub.execute_input": "2021-08-30T11:57:42.435843Z",
     "iopub.status.busy": "2021-08-30T11:57:42.435079Z",
     "iopub.status.idle": "2021-08-30T11:57:42.438437Z",
     "shell.execute_reply": "2021-08-30T11:57:42.437744Z",
     "shell.execute_reply.started": "2021-08-30T11:57:01.423882Z"
    },
    "papermill": {
     "duration": 0.049185,
     "end_time": "2021-08-30T11:57:42.438612",
     "exception": false,
     "start_time": "2021-08-30T11:57:42.389427",
     "status": "completed"
    },
    "tags": []
   },
   "outputs": [],
   "source": [
    "X = corr_data\n",
    "y = dum_data['Churn_Yes']"
   ]
  },
  {
   "cell_type": "code",
   "execution_count": 17,
   "id": "b16e3de1",
   "metadata": {
    "execution": {
     "iopub.execute_input": "2021-08-30T11:57:42.525151Z",
     "iopub.status.busy": "2021-08-30T11:57:42.524467Z",
     "iopub.status.idle": "2021-08-30T11:57:42.529545Z",
     "shell.execute_reply": "2021-08-30T11:57:42.530044Z",
     "shell.execute_reply.started": "2021-08-30T11:57:01.430042Z"
    },
    "papermill": {
     "duration": 0.051956,
     "end_time": "2021-08-30T11:57:42.530247",
     "exception": false,
     "start_time": "2021-08-30T11:57:42.478291",
     "status": "completed"
    },
    "tags": []
   },
   "outputs": [],
   "source": [
    "X_train, X_test, y_train, y_test = train_test_split(X, y, test_size=0.33, random_state=42)"
   ]
  },
  {
   "cell_type": "markdown",
   "id": "21b10c77",
   "metadata": {
    "papermill": {
     "duration": 0.037491,
     "end_time": "2021-08-30T11:57:42.606916",
     "exception": false,
     "start_time": "2021-08-30T11:57:42.569425",
     "status": "completed"
    },
    "tags": []
   },
   "source": [
    "## Machine Learning Model :"
   ]
  },
  {
   "cell_type": "code",
   "execution_count": 18,
   "id": "28ed63ef",
   "metadata": {
    "execution": {
     "iopub.execute_input": "2021-08-30T11:57:42.686684Z",
     "iopub.status.busy": "2021-08-30T11:57:42.685875Z",
     "iopub.status.idle": "2021-08-30T11:57:42.782396Z",
     "shell.execute_reply": "2021-08-30T11:57:42.782915Z",
     "shell.execute_reply.started": "2021-08-30T11:57:01.447657Z"
    },
    "papermill": {
     "duration": 0.138071,
     "end_time": "2021-08-30T11:57:42.783193",
     "exception": false,
     "start_time": "2021-08-30T11:57:42.645122",
     "status": "completed"
    },
    "tags": []
   },
   "outputs": [],
   "source": [
    "from sklearn.linear_model import LogisticRegression"
   ]
  },
  {
   "cell_type": "code",
   "execution_count": 19,
   "id": "2b50f7da",
   "metadata": {
    "execution": {
     "iopub.execute_input": "2021-08-30T11:57:42.863759Z",
     "iopub.status.busy": "2021-08-30T11:57:42.862751Z",
     "iopub.status.idle": "2021-08-30T11:57:42.868251Z",
     "shell.execute_reply": "2021-08-30T11:57:42.867673Z",
     "shell.execute_reply.started": "2021-08-30T11:57:01.565765Z"
    },
    "papermill": {
     "duration": 0.046914,
     "end_time": "2021-08-30T11:57:42.868415",
     "exception": false,
     "start_time": "2021-08-30T11:57:42.821501",
     "status": "completed"
    },
    "tags": []
   },
   "outputs": [],
   "source": [
    "model = LogisticRegression()"
   ]
  },
  {
   "cell_type": "code",
   "execution_count": 20,
   "id": "e0273586",
   "metadata": {
    "execution": {
     "iopub.execute_input": "2021-08-30T11:57:42.952702Z",
     "iopub.status.busy": "2021-08-30T11:57:42.951992Z",
     "iopub.status.idle": "2021-08-30T11:57:43.214947Z",
     "shell.execute_reply": "2021-08-30T11:57:43.216001Z",
     "shell.execute_reply.started": "2021-08-30T11:57:01.570612Z"
    },
    "papermill": {
     "duration": 0.309206,
     "end_time": "2021-08-30T11:57:43.216321",
     "exception": false,
     "start_time": "2021-08-30T11:57:42.907115",
     "status": "completed"
    },
    "tags": []
   },
   "outputs": [
    {
     "data": {
      "text/plain": [
       "LogisticRegression()"
      ]
     },
     "execution_count": 20,
     "metadata": {},
     "output_type": "execute_result"
    }
   ],
   "source": [
    "model.fit(X_train,y_train)"
   ]
  },
  {
   "cell_type": "code",
   "execution_count": 21,
   "id": "9daa707d",
   "metadata": {
    "execution": {
     "iopub.execute_input": "2021-08-30T11:57:43.351039Z",
     "iopub.status.busy": "2021-08-30T11:57:43.348490Z",
     "iopub.status.idle": "2021-08-30T11:57:43.352282Z",
     "shell.execute_reply": "2021-08-30T11:57:43.353162Z",
     "shell.execute_reply.started": "2021-08-30T11:57:01.898623Z"
    },
    "papermill": {
     "duration": 0.070678,
     "end_time": "2021-08-30T11:57:43.353447",
     "exception": false,
     "start_time": "2021-08-30T11:57:43.282769",
     "status": "completed"
    },
    "tags": []
   },
   "outputs": [],
   "source": [
    "predictions = model.predict(X_test)"
   ]
  },
  {
   "cell_type": "code",
   "execution_count": 22,
   "id": "fd945a2b",
   "metadata": {
    "execution": {
     "iopub.execute_input": "2021-08-30T11:57:43.487692Z",
     "iopub.status.busy": "2021-08-30T11:57:43.486635Z",
     "iopub.status.idle": "2021-08-30T11:57:43.492006Z",
     "shell.execute_reply": "2021-08-30T11:57:43.491466Z",
     "shell.execute_reply.started": "2021-08-30T11:57:01.912687Z"
    },
    "papermill": {
     "duration": 0.066864,
     "end_time": "2021-08-30T11:57:43.492205",
     "exception": false,
     "start_time": "2021-08-30T11:57:43.425341",
     "status": "completed"
    },
    "tags": []
   },
   "outputs": [],
   "source": [
    "from sklearn.metrics import mean_squared_error"
   ]
  },
  {
   "cell_type": "code",
   "execution_count": 23,
   "id": "37021952",
   "metadata": {
    "execution": {
     "iopub.execute_input": "2021-08-30T11:57:43.580556Z",
     "iopub.status.busy": "2021-08-30T11:57:43.579262Z",
     "iopub.status.idle": "2021-08-30T11:57:43.592364Z",
     "shell.execute_reply": "2021-08-30T11:57:43.593207Z",
     "shell.execute_reply.started": "2021-08-30T11:57:01.930677Z"
    },
    "papermill": {
     "duration": 0.063076,
     "end_time": "2021-08-30T11:57:43.593502",
     "exception": false,
     "start_time": "2021-08-30T11:57:43.530426",
     "status": "completed"
    },
    "tags": []
   },
   "outputs": [
    {
     "name": "stdout",
     "output_type": "stream",
     "text": [
      "Training Score :  0.7857142857142857\n",
      "Test Score :  0.7879569892473118\n",
      "Error : 0.46048128165288993\n"
     ]
    }
   ],
   "source": [
    "print('Training Score : ', model.score(X_train,y_train))\n",
    "print('Test Score : ', model.score(X_test,y_test))\n",
    "print('Error :', np.sqrt(mean_squared_error(predictions,y_test)))"
   ]
  },
  {
   "cell_type": "code",
   "execution_count": null,
   "id": "90edef30",
   "metadata": {
    "papermill": {
     "duration": 0.059652,
     "end_time": "2021-08-30T11:57:43.721524",
     "exception": false,
     "start_time": "2021-08-30T11:57:43.661872",
     "status": "completed"
    },
    "tags": []
   },
   "outputs": [],
   "source": []
  }
 ],
 "metadata": {
  "kernelspec": {
   "display_name": "Python 3",
   "language": "python",
   "name": "python3"
  },
  "language_info": {
   "codemirror_mode": {
    "name": "ipython",
    "version": 3
   },
   "file_extension": ".py",
   "mimetype": "text/x-python",
   "name": "python",
   "nbconvert_exporter": "python",
   "pygments_lexer": "ipython3",
   "version": "3.7.10"
  },
  "papermill": {
   "default_parameters": {},
   "duration": 19.971752,
   "end_time": "2021-08-30T11:57:45.116578",
   "environment_variables": {},
   "exception": null,
   "input_path": "__notebook__.ipynb",
   "output_path": "__notebook__.ipynb",
   "parameters": {},
   "start_time": "2021-08-30T11:57:25.144826",
   "version": "2.3.3"
  }
 },
 "nbformat": 4,
 "nbformat_minor": 5
}
