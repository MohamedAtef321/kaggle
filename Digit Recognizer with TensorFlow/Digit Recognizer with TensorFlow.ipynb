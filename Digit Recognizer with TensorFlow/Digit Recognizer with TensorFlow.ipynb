{
 "cells": [
  {
   "cell_type": "markdown",
   "id": "76cf1655",
   "metadata": {
    "papermill": {
     "duration": 0.013127,
     "end_time": "2021-08-23T01:10:11.822992",
     "exception": false,
     "start_time": "2021-08-23T01:10:11.809865",
     "status": "completed"
    },
    "tags": []
   },
   "source": [
    "# Digit Recognizer"
   ]
  },
  {
   "cell_type": "markdown",
   "id": "6c6411a0",
   "metadata": {
    "papermill": {
     "duration": 0.012053,
     "end_time": "2021-08-23T01:10:11.847553",
     "exception": false,
     "start_time": "2021-08-23T01:10:11.835500",
     "status": "completed"
    },
    "tags": []
   },
   "source": [
    "## Importing Libraries :"
   ]
  },
  {
   "cell_type": "code",
   "execution_count": 1,
   "id": "ff7444b9",
   "metadata": {
    "execution": {
     "iopub.execute_input": "2021-08-23T01:10:11.878609Z",
     "iopub.status.busy": "2021-08-23T01:10:11.876765Z",
     "iopub.status.idle": "2021-08-23T01:10:11.889533Z",
     "shell.execute_reply": "2021-08-23T01:10:11.888720Z",
     "shell.execute_reply.started": "2021-08-23T01:09:12.714984Z"
    },
    "papermill": {
     "duration": 0.030002,
     "end_time": "2021-08-23T01:10:11.889694",
     "exception": false,
     "start_time": "2021-08-23T01:10:11.859692",
     "status": "completed"
    },
    "tags": []
   },
   "outputs": [],
   "source": [
    "import numpy as np\n",
    "import pandas as pd\n",
    "import matplotlib.pyplot as plt\n",
    "import os"
   ]
  },
  {
   "cell_type": "markdown",
   "id": "2de2dc9d",
   "metadata": {
    "papermill": {
     "duration": 0.011965,
     "end_time": "2021-08-23T01:10:11.913948",
     "exception": false,
     "start_time": "2021-08-23T01:10:11.901983",
     "status": "completed"
    },
    "tags": []
   },
   "source": [
    "## Reading Data :"
   ]
  },
  {
   "cell_type": "code",
   "execution_count": 2,
   "id": "8634ae02",
   "metadata": {
    "execution": {
     "iopub.execute_input": "2021-08-23T01:10:11.943540Z",
     "iopub.status.busy": "2021-08-23T01:10:11.942852Z",
     "iopub.status.idle": "2021-08-23T01:10:11.947907Z",
     "shell.execute_reply": "2021-08-23T01:10:11.948488Z",
     "shell.execute_reply.started": "2021-08-23T01:09:12.729078Z"
    },
    "papermill": {
     "duration": 0.022363,
     "end_time": "2021-08-23T01:10:11.948656",
     "exception": false,
     "start_time": "2021-08-23T01:10:11.926293",
     "status": "completed"
    },
    "tags": []
   },
   "outputs": [
    {
     "name": "stdout",
     "output_type": "stream",
     "text": [
      "/kaggle/input/digit-recognizer/sample_submission.csv\n",
      "/kaggle/input/digit-recognizer/train.csv\n",
      "/kaggle/input/digit-recognizer/test.csv\n"
     ]
    }
   ],
   "source": [
    "for dirname, _, filenames in os.walk('/kaggle/input'):\n",
    "    for filename in filenames:\n",
    "        print(os.path.join(dirname, filename))"
   ]
  },
  {
   "cell_type": "code",
   "execution_count": 3,
   "id": "c887ad16",
   "metadata": {
    "execution": {
     "iopub.execute_input": "2021-08-23T01:10:11.976674Z",
     "iopub.status.busy": "2021-08-23T01:10:11.976034Z",
     "iopub.status.idle": "2021-08-23T01:10:18.070436Z",
     "shell.execute_reply": "2021-08-23T01:10:18.069631Z",
     "shell.execute_reply.started": "2021-08-23T01:09:12.754043Z"
    },
    "papermill": {
     "duration": 6.109205,
     "end_time": "2021-08-23T01:10:18.070602",
     "exception": false,
     "start_time": "2021-08-23T01:10:11.961397",
     "status": "completed"
    },
    "tags": []
   },
   "outputs": [],
   "source": [
    "train_df = pd.read_csv('../input/digit-recognizer/train.csv')\n",
    "test_df = pd.read_csv('../input/digit-recognizer/test.csv')\n",
    "#sample_submision_df = pd.read_csv('../input/digit-recognizer/sample_submission.csv')"
   ]
  },
  {
   "cell_type": "code",
   "execution_count": 4,
   "id": "89591f8c",
   "metadata": {
    "execution": {
     "iopub.execute_input": "2021-08-23T01:10:18.219371Z",
     "iopub.status.busy": "2021-08-23T01:10:18.215297Z",
     "iopub.status.idle": "2021-08-23T01:10:18.226760Z",
     "shell.execute_reply": "2021-08-23T01:10:18.226237Z",
     "shell.execute_reply.started": "2021-08-23T01:09:18.834849Z"
    },
    "papermill": {
     "duration": 0.143431,
     "end_time": "2021-08-23T01:10:18.226934",
     "exception": false,
     "start_time": "2021-08-23T01:10:18.083503",
     "status": "completed"
    },
    "tags": []
   },
   "outputs": [
    {
     "data": {
      "text/plain": [
       "(28000, 784)"
      ]
     },
     "execution_count": 4,
     "metadata": {},
     "output_type": "execute_result"
    }
   ],
   "source": [
    "train_data = train_df.drop('label',axis=1).values\n",
    "train_labels = train_df['label'].values\n",
    "\n",
    "test_data = test_df.values\n",
    "#test_labels = sample_submision_df['Label'].values\n",
    "test_data.shape"
   ]
  },
  {
   "cell_type": "code",
   "execution_count": 5,
   "id": "a4d208d9",
   "metadata": {
    "execution": {
     "iopub.execute_input": "2021-08-23T01:10:18.257325Z",
     "iopub.status.busy": "2021-08-23T01:10:18.256522Z",
     "iopub.status.idle": "2021-08-23T01:10:18.473440Z",
     "shell.execute_reply": "2021-08-23T01:10:18.472868Z",
     "shell.execute_reply.started": "2021-08-23T01:09:18.938839Z"
    },
    "papermill": {
     "duration": 0.233616,
     "end_time": "2021-08-23T01:10:18.473605",
     "exception": false,
     "start_time": "2021-08-23T01:10:18.239989",
     "status": "completed"
    },
    "tags": []
   },
   "outputs": [],
   "source": [
    "train_data_norm  = train_data / 255.0\n",
    "test_data_norm = test_data / 255.0"
   ]
  },
  {
   "cell_type": "markdown",
   "id": "77e7e278",
   "metadata": {
    "papermill": {
     "duration": 0.01286,
     "end_time": "2021-08-23T01:10:18.499328",
     "exception": false,
     "start_time": "2021-08-23T01:10:18.486468",
     "status": "completed"
    },
    "tags": []
   },
   "source": [
    "## Creation of our model :"
   ]
  },
  {
   "cell_type": "code",
   "execution_count": 6,
   "id": "39aee1f9",
   "metadata": {
    "execution": {
     "iopub.execute_input": "2021-08-23T01:10:18.529918Z",
     "iopub.status.busy": "2021-08-23T01:10:18.529246Z",
     "iopub.status.idle": "2021-08-23T01:10:24.620540Z",
     "shell.execute_reply": "2021-08-23T01:10:24.621164Z",
     "shell.execute_reply.started": "2021-08-23T01:09:19.123062Z"
    },
    "papermill": {
     "duration": 6.108934,
     "end_time": "2021-08-23T01:10:24.621344",
     "exception": false,
     "start_time": "2021-08-23T01:10:18.512410",
     "status": "completed"
    },
    "tags": []
   },
   "outputs": [],
   "source": [
    "import tensorflow as tf"
   ]
  },
  {
   "cell_type": "code",
   "execution_count": 7,
   "id": "b962dc5b",
   "metadata": {
    "execution": {
     "iopub.execute_input": "2021-08-23T01:10:24.650719Z",
     "iopub.status.busy": "2021-08-23T01:10:24.650035Z",
     "iopub.status.idle": "2021-08-23T01:10:24.725746Z",
     "shell.execute_reply": "2021-08-23T01:10:24.725151Z",
     "shell.execute_reply.started": "2021-08-23T01:09:25.770061Z"
    },
    "papermill": {
     "duration": 0.091265,
     "end_time": "2021-08-23T01:10:24.725896",
     "exception": false,
     "start_time": "2021-08-23T01:10:24.634631",
     "status": "completed"
    },
    "tags": []
   },
   "outputs": [],
   "source": [
    "model = tf.keras.models.Sequential([\n",
    "    tf.keras.layers.Flatten(),\n",
    "    tf.keras.layers.Dense(32,activation=tf.nn.relu),\n",
    "    tf.keras.layers.Dense(10,activation=tf.nn.softmax)    \n",
    "])\n",
    "\n",
    "model.compile(optimizer = tf.keras.optimizers.Adam(),\n",
    "              loss = 'sparse_categorical_crossentropy',\n",
    "              metrics=['accuracy'])"
   ]
  },
  {
   "cell_type": "code",
   "execution_count": 8,
   "id": "0938706d",
   "metadata": {
    "execution": {
     "iopub.execute_input": "2021-08-23T01:10:24.758390Z",
     "iopub.status.busy": "2021-08-23T01:10:24.757701Z",
     "iopub.status.idle": "2021-08-23T01:10:42.833249Z",
     "shell.execute_reply": "2021-08-23T01:10:42.832626Z",
     "shell.execute_reply.started": "2021-08-23T01:09:25.840429Z"
    },
    "papermill": {
     "duration": 18.094015,
     "end_time": "2021-08-23T01:10:42.833413",
     "exception": false,
     "start_time": "2021-08-23T01:10:24.739398",
     "status": "completed"
    },
    "tags": []
   },
   "outputs": [
    {
     "name": "stdout",
     "output_type": "stream",
     "text": [
      "Epoch 1/10\n",
      "1313/1313 [==============================] - 2s 1ms/step - loss: 0.6670 - accuracy: 0.8101\n",
      "Epoch 2/10\n",
      "1313/1313 [==============================] - 2s 1ms/step - loss: 0.2167 - accuracy: 0.9365\n",
      "Epoch 3/10\n",
      "1313/1313 [==============================] - 2s 1ms/step - loss: 0.1707 - accuracy: 0.9519\n",
      "Epoch 4/10\n",
      "1313/1313 [==============================] - 2s 1ms/step - loss: 0.1423 - accuracy: 0.9603\n",
      "Epoch 5/10\n",
      "1313/1313 [==============================] - 2s 1ms/step - loss: 0.1251 - accuracy: 0.9638\n",
      "Epoch 6/10\n",
      "1313/1313 [==============================] - 2s 1ms/step - loss: 0.1076 - accuracy: 0.9696\n",
      "Epoch 7/10\n",
      "1313/1313 [==============================] - 2s 1ms/step - loss: 0.0982 - accuracy: 0.9711\n",
      "Epoch 8/10\n",
      "1313/1313 [==============================] - 2s 1ms/step - loss: 0.0869 - accuracy: 0.9743\n",
      "Epoch 9/10\n",
      "1313/1313 [==============================] - 2s 1ms/step - loss: 0.0768 - accuracy: 0.9782\n",
      "Epoch 10/10\n",
      "1313/1313 [==============================] - 2s 1ms/step - loss: 0.0739 - accuracy: 0.9777\n"
     ]
    },
    {
     "data": {
      "text/plain": [
       "<tensorflow.python.keras.callbacks.History at 0x7f164469ffd0>"
      ]
     },
     "execution_count": 8,
     "metadata": {},
     "output_type": "execute_result"
    }
   ],
   "source": [
    "model.fit(train_data_norm, train_labels, epochs=10)"
   ]
  },
  {
   "cell_type": "markdown",
   "id": "50914688",
   "metadata": {
    "papermill": {
     "duration": 0.125419,
     "end_time": "2021-08-23T01:10:43.084733",
     "exception": false,
     "start_time": "2021-08-23T01:10:42.959314",
     "status": "completed"
    },
    "tags": []
   },
   "source": [
    "## Let's make predictions and see if it's right :"
   ]
  },
  {
   "cell_type": "code",
   "execution_count": 9,
   "id": "5e50a47a",
   "metadata": {
    "execution": {
     "iopub.execute_input": "2021-08-23T01:10:43.333038Z",
     "iopub.status.busy": "2021-08-23T01:10:43.332022Z",
     "iopub.status.idle": "2021-08-23T01:10:44.234307Z",
     "shell.execute_reply": "2021-08-23T01:10:44.233758Z",
     "shell.execute_reply.started": "2021-08-23T01:09:44.179134Z"
    },
    "papermill": {
     "duration": 1.028239,
     "end_time": "2021-08-23T01:10:44.234471",
     "exception": false,
     "start_time": "2021-08-23T01:10:43.206232",
     "status": "completed"
    },
    "tags": []
   },
   "outputs": [
    {
     "name": "stdout",
     "output_type": "stream",
     "text": [
      "[2 0 9 ... 3 9 2]\n"
     ]
    }
   ],
   "source": [
    "predictions = model.predict(test_data)\n",
    "predictions = predictions.argmax(axis=-1)\n",
    "print(predictions)"
   ]
  },
  {
   "cell_type": "code",
   "execution_count": 10,
   "id": "f0a74c3d",
   "metadata": {
    "execution": {
     "iopub.execute_input": "2021-08-23T01:10:44.508425Z",
     "iopub.status.busy": "2021-08-23T01:10:44.507689Z",
     "iopub.status.idle": "2021-08-23T01:10:46.482568Z",
     "shell.execute_reply": "2021-08-23T01:10:46.481845Z",
     "shell.execute_reply.started": "2021-08-23T01:09:45.122198Z"
    },
    "papermill": {
     "duration": 2.121844,
     "end_time": "2021-08-23T01:10:46.482721",
     "exception": false,
     "start_time": "2021-08-23T01:10:44.360877",
     "status": "completed"
    },
    "tags": []
   },
   "outputs": [
    {
     "data": {
      "image/png": "[encoded data removed]",
      "text/plain": [
       "<Figure size 1152x1152 with 16 Axes>"
      ]
     },
     "metadata": {
      "needs_background": "light"
     },
     "output_type": "display_data"
    }
   ],
   "source": [
    "ncols = 4\n",
    "nrows = 4\n",
    "pic_index = 0\n",
    "num_images = nrows*ncols \n",
    "\n",
    "fig = plt.gcf()\n",
    "fig.set_size_inches(ncols * 4, nrows * 4)\n",
    " \n",
    "for i in range(num_images):\n",
    "    \n",
    "    sp = plt.subplot(nrows, ncols, i+1)\n",
    "    image = pic_index + i\n",
    "    \n",
    "    plt.imshow((255 - test_data[image]).reshape((28,28)), cmap='binary')\n",
    "    plt.xlabel(\"The Digit is \" + str(predictions[image]))\n",
    "    \n",
    "plt.show()"
   ]
  },
  {
   "cell_type": "code",
   "execution_count": null,
   "id": "035e9fc8",
   "metadata": {
    "papermill": {
     "duration": 0.123318,
     "end_time": "2021-08-23T01:10:46.731792",
     "exception": false,
     "start_time": "2021-08-23T01:10:46.608474",
     "status": "completed"
    },
    "tags": []
   },
   "outputs": [],
   "source": []
  }
 ],
 "metadata": {
  "kernelspec": {
   "display_name": "Python 3",
   "language": "python",
   "name": "python3"
  },
  "language_info": {
   "codemirror_mode": {
    "name": "ipython",
    "version": 3
   },
   "file_extension": ".py",
   "mimetype": "text/x-python",
   "name": "python",
   "nbconvert_exporter": "python",
   "pygments_lexer": "ipython3",
   "version": "3.7.10"
  },
  "papermill": {
   "default_parameters": {},
   "duration": 44.814624,
   "end_time": "2021-08-23T01:10:48.348106",
   "environment_variables": {},
   "exception": null,
   "input_path": "__notebook__.ipynb",
   "output_path": "__notebook__.ipynb",
   "parameters": {},
   "start_time": "2021-08-23T01:10:03.533482",
   "version": "2.3.3"
  }
 },
 "nbformat": 4,
 "nbformat_minor": 5
}
